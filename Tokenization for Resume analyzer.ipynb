{
 "cells": [
  {
   "cell_type": "code",
   "execution_count": 3,
   "id": "cd591258-98a9-4ec3-b9c6-02047e4a3d0f",
   "metadata": {},
   "outputs": [
    {
     "name": "stdout",
     "output_type": "stream",
     "text": [
      "Requirement already satisfied: PyPDF2 in c:\\users\\welcome\\anaconda3\\lib\\site-packages (3.0.1)\n",
      "Note: you may need to restart the kernel to use updated packages.\n"
     ]
    }
   ],
   "source": [
    "pip install PyPDF2"
   ]
  },
  {
   "cell_type": "code",
   "execution_count": 2,
   "id": "9a7128db-fcf2-41b7-8f2b-15ab3e53bb33",
   "metadata": {},
   "outputs": [
    {
     "name": "stderr",
     "output_type": "stream",
     "text": [
      "[nltk_data] Downloading package punkt to\n",
      "[nltk_data]     C:\\Users\\Welcome\\AppData\\Roaming\\nltk_data...\n",
      "[nltk_data]   Unzipping tokenizers\\punkt.zip.\n",
      "[nltk_data] Downloading package stopwords to\n",
      "[nltk_data]     C:\\Users\\Welcome\\AppData\\Roaming\\nltk_data...\n",
      "[nltk_data]   Unzipping corpora\\stopwords.zip.\n"
     ]
    },
    {
     "data": {
      "text/plain": [
       "True"
      ]
     },
     "execution_count": 2,
     "metadata": {},
     "output_type": "execute_result"
    }
   ],
   "source": [
    "import nltk\n",
    "nltk.download('punkt')\n",
    "nltk.download('stopwords')"
   ]
  },
  {
   "cell_type": "code",
   "execution_count": 3,
   "id": "9b8e238c-710e-4371-a636-60c8cc19adeb",
   "metadata": {},
   "outputs": [],
   "source": [
    "import re\n",
    "import PyPDF2\n",
    "from nltk.corpus import stopwords\n",
    "from nltk.tokenize import word_tokenize\n",
    "import string"
   ]
  },
  {
   "cell_type": "code",
   "execution_count": 4,
   "id": "c4e2b7d1-3350-4a52-b202-c2a7b5b6262c",
   "metadata": {},
   "outputs": [],
   "source": [
    "keywords=[\"Python\",\"Deep Learning\",\"Natural Language Processing\",\"Statistic\",\"Analytics\",\"Java\",\"Machine Learning Algorithm\",\"Big Data\",\"Cloud Skills\",\"Data Analysing skills\",\"SQL\",\"r\"]"
   ]
  },
  {
   "cell_type": "code",
   "execution_count": 5,
   "id": "823f9132-e980-499a-b555-960c17d5c12d",
   "metadata": {},
   "outputs": [],
   "source": [
    "stop_words=set(stopwords.words(\"english\"))"
   ]
  },
  {
   "cell_type": "code",
   "execution_count": 7,
   "id": "ff9a4314-3c86-4d76-b0e1-1dcb5a0b10d7",
   "metadata": {},
   "outputs": [],
   "source": [
    "def pdf(file_path):\n",
    "    with open(file_path,\"rb\") as file:\n",
    "        pdf_reader=PyPDF2.pdfReader(file)\n",
    "        for page in pdf_reader.pages:\n",
    "            pages_text=pages.extract_text()\n",
    "            if pages_text:\n",
    "                text+=page_text\n",
    "    return text"
   ]
  },
  {
   "cell_type": "code",
   "execution_count": null,
   "id": "dfbc27cc-69ae-4d9c-88d1-7b726e6d581f",
   "metadata": {},
   "outputs": [],
   "source": [
    "def token_extract(text):\n",
    "    text=text.lower()\n",
    "    text=text.translate(str.maketrans(\"\",\"\",string.punctuation))\n",
    "    token =word_tokenize(text)\n",
    "    filter=[token for token in tokens if token not in stop_words]\n",
    "    print(filter)\n",
    "    return filter"
   ]
  }
 ],
 "metadata": {
  "kernelspec": {
   "display_name": "Python 3 (ipykernel)",
   "language": "python",
   "name": "python3"
  },
  "language_info": {
   "codemirror_mode": {
    "name": "ipython",
    "version": 3
   },
   "file_extension": ".py",
   "mimetype": "text/x-python",
   "name": "python",
   "nbconvert_exporter": "python",
   "pygments_lexer": "ipython3",
   "version": "3.12.7"
  }
 },
 "nbformat": 4,
 "nbformat_minor": 5
}
